{
  "cells": [
    {
      "cell_type": "markdown",
      "metadata": {
        "id": "view-in-github",
        "colab_type": "text"
      },
      "source": [
        "<a href=\"https://colab.research.google.com/github/KimuShi84/Prmn2023a/blob/main/PythonBasic_4_Question.ipynb\" target=\"_parent\"><img src=\"https://colab.research.google.com/assets/colab-badge.svg\" alt=\"Open In Colab\"/></a>"
      ]
    },
    {
      "cell_type": "markdown",
      "metadata": {
        "id": "TA5kKi-LY1xg"
      },
      "source": [
        "<a href=\"https://colab.research.google.com/github/kiryu-3/Prmn2023/blob/main/Python/Python_Basic/question/PythonBasic_4_Question.ipynb\" target=\"_parent\"><img src=\"https://colab.research.google.com/assets/colab-badge.svg\" alt=\"Open In Colab\"/></a>"
      ]
    },
    {
      "cell_type": "markdown",
      "metadata": {
        "id": "r-kcfL2yEU8b"
      },
      "source": [
        "# 第4章 課題"
      ]
    },
    {
      "cell_type": "markdown",
      "metadata": {
        "id": "UqgRlaNaaWsU"
      },
      "source": [
        "## 課題1"
      ]
    },
    {
      "cell_type": "code",
      "source": [],
      "metadata": {
        "id": "sNLyOSluJJND"
      },
      "execution_count": null,
      "outputs": []
    },
    {
      "cell_type": "markdown",
      "metadata": {
        "id": "dMngS2Dtai7U"
      },
      "source": [
        "10から2800まで、10飛ばしの数を乱数で生成し、2220000に足してください。  \n",
        "\n",
        "この数を5つ生成し、一つのリストに格納した後、最終的に頭に\"b\"をつけて5つ出力してください。"
      ]
    },
    {
      "cell_type": "markdown",
      "metadata": {
        "id": "Ys4Y3shObw3w"
      },
      "source": [
        "＜実行結果例＞\n",
        "``` py  \n",
        "['b2220400', 'b2221750', 'b2222480', 'b2221720', 'b2220380']\n",
        "```"
      ]
    },
    {
      "cell_type": "code",
      "execution_count": null,
      "metadata": {
        "id": "UaBFEY3Hdbsg",
        "colab": {
          "base_uri": "https://localhost:8080/"
        },
        "outputId": "20e0e521-38a0-45c7-be56-bf9264eea703"
      },
      "outputs": [
        {
          "output_type": "stream",
          "name": "stdout",
          "text": [
            "b2220935,b2220713,b2222033,b2221382,b2220811,"
          ]
        }
      ],
      "source": [
        "import random\n",
        "for i in range(5):\n",
        "  x=random.randint(10,2800)\n",
        "  y=2220000+x\n",
        "  print('b'+str(y),end=\",\")\n"
      ]
    },
    {
      "cell_type": "markdown",
      "metadata": {
        "id": "yRsfay5_8FuJ"
      },
      "source": [
        "## 課題2"
      ]
    },
    {
      "cell_type": "markdown",
      "metadata": {
        "id": "4WbYBFGr8Ht3"
      },
      "source": [
        "1桁の自然数を乱数を使って5つ格納した2つのリストを作ってください。  \n",
        "この時、一つのリスト内で5つの値が重複しないようにしてください\n",
        "\n",
        "その後、対応する要素を足し合わせた新しいリストを出力してください"
      ]
    },
    {
      "cell_type": "markdown",
      "metadata": {
        "id": "A0ImPPha84Nb"
      },
      "source": [
        "＜実行結果例＞\n",
        "``` py  \n",
        "1つ目のリスト：[1, 2, 3, 4, 5]  \n",
        "2つ目のリスト：[1, 3, 5, 7, 9]  \n",
        "足し合わせたリスト：[2, 5, 8, 11, 14]\n",
        "```"
      ]
    },
    {
      "cell_type": "code",
      "execution_count": null,
      "metadata": {
        "id": "TaJm8jn2MHmk",
        "colab": {
          "base_uri": "https://localhost:8080/"
        },
        "outputId": "99aca84c-a03a-4fae-aa8f-4010d0a33c1b"
      },
      "outputs": [
        {
          "output_type": "stream",
          "name": "stdout",
          "text": [
            "1つ目のリスト: [4, 1, 2, 3, 5]\n",
            "2つ目のリスト: [5, 3, 8, 1, 9]\n",
            "足し合わせたリスト: [9, 4, 10, 4, 14]\n"
          ]
        }
      ],
      "source": [
        "import random\n",
        "list1=[]\n",
        "list2=[]\n",
        "list3=[]\n",
        "while len(list1)<5:\n",
        "  x=random.randint(1,9)\n",
        "  if not x in list1:\n",
        "    list1.append(x)\n",
        "\n",
        "while len(list2)<5:\n",
        "  x=random.randint(1,9)\n",
        "  if not x in list2:\n",
        "    list2.append(x)\n",
        "\n",
        "print('1つ目のリスト:',list1)\n",
        "print('2つ目のリスト:',list2)\n",
        "\n",
        "for i in range(5):\n",
        "  list3.append(list1[i]+list2[i])\n",
        "print('足し合わせたリスト:',list3)"
      ]
    },
    {
      "cell_type": "markdown",
      "metadata": {
        "id": "-qZw_n3X8xrW"
      },
      "source": [
        "## 課題3"
      ]
    },
    {
      "cell_type": "markdown",
      "metadata": {
        "id": "vxwATeobQf_U"
      },
      "source": [
        "リストの中身を指定した数で分割してみます。\n",
        "\n",
        "以下のリストには都道府県47つが格納されています。"
      ]
    },
    {
      "cell_type": "code",
      "execution_count": null,
      "metadata": {
        "id": "8ZdyRWbERGAY"
      },
      "outputs": [],
      "source": [
        "todohuken_list = [\n",
        "    '北海道', '青森県', '岩手県', '宮城県', '秋田県', '山形県', '福島県', '茨城県', '栃木県', '群馬県', \n",
        "    '埼玉県', '千葉県', '東京都', '神奈川県', '新潟県', '富山県', '石川県', '福井県', '山梨県', '長野県', \n",
        "    '岐阜県', '静岡県', '愛知県', '三重県', '滋賀県', '京都府', '大阪府', '兵庫県', '奈良県', '和歌山県', \n",
        "    '鳥取県', '島根県', '岡山県', '広島県', '山口県', '徳島県', '香川県', '愛媛県', '高知県',  '福岡県', \n",
        "    '佐賀県', '長崎県', '熊本県', '大分県', '宮崎県', '鹿児島県', '沖縄県',\n",
        "]"
      ]
    },
    {
      "cell_type": "markdown",
      "metadata": {
        "id": "tGPa1uU6Qs2c"
      },
      "source": [
        "  \n",
        "これをランダムに1つのリストのサイズを4として分割してください"
      ]
    },
    {
      "cell_type": "markdown",
      "metadata": {
        "id": "PWLTwz0TXzm_"
      },
      "source": [
        "＜実行結果例＞  \n",
        "``` py \n",
        "[['宮崎県', '茨城県', '栃木県', '千葉県'], … , ['岩手県', '滋賀県', '宮城県']]\n",
        "```"
      ]
    },
    {
      "cell_type": "code",
      "execution_count": null,
      "metadata": {
        "id": "rgPlOseCTC_h",
        "colab": {
          "base_uri": "https://localhost:8080/"
        },
        "outputId": "cd303757-5eb3-43d1-8ef9-f40a555a97ba"
      },
      "outputs": [
        {
          "output_type": "stream",
          "name": "stdout",
          "text": [
            "['広島県', '宮城県', '岐阜県', '滋賀県']\n",
            "['三重県', '大分県', '富山県', '兵庫県']\n",
            "['鳥取県', '静岡県', '千葉県', '長崎県']\n",
            "['新潟県', '福岡県', '秋田県', '和歌山県']\n",
            "['山梨県', '長野県', '福井県', '島根県']\n",
            "['愛媛県', '大阪府', '山口県', '石川県']\n",
            "['熊本県', '青森県', '宮崎県', '福島県']\n",
            "['佐賀県', '東京都', '神奈川県', '鹿児島県']\n",
            "['徳島県', '北海道', '京都府', '群馬県']\n",
            "['埼玉県', '奈良県', '愛知県', '栃木県']\n",
            "['岡山県', '沖縄県', '山形県', '茨城県']\n",
            "['高知県', '岩手県', '香川県']\n"
          ]
        }
      ],
      "source": [
        "import random\n",
        "random.shuffle(todohuken_list)\n",
        "n=0\n",
        "for i in todohuken_list:\n",
        "  print(todohuken_list[n:n+4:1])\n",
        "  n=n+4\n",
        "  if n>=len(todohuken_list):\n",
        "    break"
      ]
    },
    {
      "cell_type": "markdown",
      "metadata": {
        "id": "W573lh39MOlj"
      },
      "source": [
        "## 課題4"
      ]
    },
    {
      "cell_type": "markdown",
      "metadata": {
        "id": "sSIMKY-aNcIx"
      },
      "source": [
        "ある大学の名前と年齢が、次のような形式で格納されたリスト `university_list` があります。"
      ]
    },
    {
      "cell_type": "code",
      "execution_count": null,
      "metadata": {
        "id": "v-wGyWuKK3wl"
      },
      "outputs": [],
      "source": [
        "university_list = [\n",
        "    \"Chitose,25\",\n",
        "    \"Hokudai,105\",\n",
        "    \"Muroran,74\",\n",
        "    \"Hakodate,23\",\n",
        "]"
      ]
    },
    {
      "cell_type": "markdown",
      "metadata": {
        "id": "XIxDf9QgO1iH"
      },
      "source": [
        "このリストを、年齢順にソートして、新たなリストとして出力してください"
      ]
    },
    {
      "cell_type": "markdown",
      "metadata": {
        "id": "0Z2-_1dAQENU"
      },
      "source": [
        "＜実行結果＞  \n",
        "``` py\n",
        "['Chitose,25', 'Hokudai,105', 'Muroran,74', 'Hakodate,23']\n",
        "['Hakodate,23', 'Chitose,25', 'Muroran,74', 'Hokudai,105']\n",
        "```"
      ]
    },
    {
      "cell_type": "code",
      "execution_count": null,
      "metadata": {
        "id": "ficNVfkgR5Kv",
        "colab": {
          "base_uri": "https://localhost:8080/"
        },
        "outputId": "e5c1c889-284c-4f6a-e364-cc26d3bbdffe"
      },
      "outputs": [
        {
          "output_type": "stream",
          "name": "stdout",
          "text": [
            "['Chitose,25', 'Hakodate,23', 'Hokudai,105', 'Muroran,74']\n",
            "['Hakodate,23', 'Chitose,25', 'Muroran,74', 'Hokudai,105']\n"
          ]
        }
      ],
      "source": [
        "import re\n",
        "print(university_list)\n",
        "print(sorted(university_list,key=lambda x:int((re.search(r\"[0-9]+\",x)).group(0))))"
      ]
    },
    {
      "cell_type": "markdown",
      "metadata": {
        "id": "QijnXk7UWAVC"
      },
      "source": [
        "## 課題5"
      ]
    },
    {
      "cell_type": "markdown",
      "metadata": {
        "id": "m7F47Q1mWCA6"
      },
      "source": [
        "**FizzBuzz（フィズ・バズ）問題**という問題について解いていきます。\n",
        "\n",
        "もともとは、英語圏で長距離ドライブ中や飲み会の時に行われる言葉遊びです。"
      ]
    },
    {
      "cell_type": "markdown",
      "metadata": {
        "id": "fArw0VcNWgwZ"
      },
      "source": [
        "以下のような問題になります。\n",
        "\n",
        "1～Nまでの整数を順に出力しなさい。ただし、例外として以下のルールを守ること。\n",
        "\n",
        "* 3で割り切れる数字の場合は\"Fizz\"を出力\n",
        "* 5で割り切れる数字の場合は\"Buzz\"を出力\n",
        "* どちらでも割り切れる数字の場合は\"FizzBuzz\"を出力"
      ]
    },
    {
      "cell_type": "markdown",
      "metadata": {
        "id": "SYqkpYstWm7Z"
      },
      "source": [
        "ここではN=100として、まずは一つのリストに\n",
        "\"Fizz\" か \"Buzz\" か \"FizzBuzz\" か \"others\" を格納してください。\n",
        "\n",
        "その後、それぞれの要素の数をカウントしてください。"
      ]
    },
    {
      "cell_type": "markdown",
      "metadata": {
        "id": "OqLuJTcWYzFt"
      },
      "source": [
        "＜実行結果＞  \n",
        "``` py\n",
        "FizzBuzzの数：6 \n",
        "Fizzの数：27 \n",
        "Buzzの数：14\n",
        "othersの数：53  \n",
        "```"
      ]
    },
    {
      "cell_type": "code",
      "execution_count": 21,
      "metadata": {
        "id": "5kEDaVLmaEpb",
        "colab": {
          "base_uri": "https://localhost:8080/"
        },
        "outputId": "afe17ba7-2be7-40f1-8b15-bbccff85bf48"
      },
      "outputs": [
        {
          "output_type": "stream",
          "name": "stdout",
          "text": [
            "[1, 2, 'Fizz', 4, 'Buzz', 'Fizz', 7, 8, 'Fizz', 'Buzz', 11, 'Fizz', 13, 14, 'FizzBuzz', 16, 17, 'Fizz', 19, 'Buzz', 'Fizz', 22, 23, 'Fizz', 'Buzz', 26, 'Fizz', 28, 29, 'FizzBuzz', 31, 32, 'Fizz', 34, 'Buzz', 'Fizz', 37, 38, 'Fizz', 'Buzz', 41, 'Fizz', 43, 44, 'FizzBuzz', 46, 47, 'Fizz', 49, 'Buzz', 'Fizz', 52, 53, 'Fizz', 'Buzz', 56, 'Fizz', 58, 59, 'FizzBuzz', 61, 62, 'Fizz', 64, 'Buzz', 'Fizz', 67, 68, 'Fizz', 'Buzz', 71, 'Fizz', 73, 74, 'FizzBuzz', 76, 77, 'Fizz', 79, 'Buzz', 'Fizz', 82, 83, 'Fizz', 'Buzz', 86, 'Fizz', 88, 89, 'FizzBuzz', 91, 92, 'Fizz', 94, 'Buzz', 'Fizz', 97, 98, 'Fizz', 'Buzz']\n",
            "FizzBuzzの数: 6\n",
            "Fizzの数: 27\n",
            "Buzzの数: 14\n",
            "othersの数: 0\n"
          ]
        }
      ],
      "source": [
        "N=100\n",
        "l=[]\n",
        "\n",
        "for i in range(1,N+1):\n",
        "  if(i%15==0):\n",
        "    l.append('FizzBuzz')\n",
        "  elif(i%3==0):\n",
        "    l.append('Fizz')\n",
        "  elif(i%5==0):\n",
        "    l.append('Buzz')\n",
        "  else:\n",
        "    l.append(i)\n",
        "\n",
        "print(l)\n",
        "\n",
        "print('FizzBuzzの数:',l.count('FizzBuzz'))\n",
        "print('Fizzの数:',l.count('Fizz'))\n",
        "print('Buzzの数:',l.count('Buzz'))\n",
        "print('othersの数:',l.count(int))"
      ]
    }
  ],
  "metadata": {
    "colab": {
      "provenance": [],
      "include_colab_link": true
    },
    "kernelspec": {
      "display_name": "Python 3",
      "name": "python3"
    },
    "language_info": {
      "name": "python"
    }
  },
  "nbformat": 4,
  "nbformat_minor": 0
}